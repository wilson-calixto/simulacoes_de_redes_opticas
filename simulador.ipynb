{
 "cells": [
  {
   "cell_type": "code",
   "execution_count": 2,
   "metadata": {},
   "outputs": [
    {
     "name": "stdout",
     "output_type": "stream",
     "text": [
      "Populating the interactive namespace from numpy and matplotlib\n"
     ]
    }
   ],
   "source": [
    "%pylab inline\n",
    "import sys\n",
    "import numpy as np\n",
    "import networkx as nx\n",
    "import matplotlib.pyplot as plt"
   ]
  },
  {
   "cell_type": "code",
   "execution_count": 8,
   "metadata": {},
   "outputs": [],
   "source": [
    "MG = nx.MultiGraph()\n",
    "\n",
    "for i in range(1,9):\n",
    "    MG.add_node(i)\n",
    "\n",
    "l = 20\n",
    "    \n",
    "for i in range(l):\n",
    "    MG.add_edge(1, 2, key = 'lambda_'+str(i), weight=50)\n",
    "    MG.add_edge(1, 4, key = 'lambda_'+str(i), weight=80)\n",
    "    MG.add_edge(1, 6, key = 'lambda_'+str(i), weight=150)\n",
    "    MG.add_edge(2, 3, key = 'lambda_'+str(i), weight=60)\n",
    "    MG.add_edge(2, 4, key = 'lambda_'+str(i), weight=40)\n",
    "    \n",
    "    MG.add_edge(2, 5, key = 'lambda_'+str(i), weight=90)\n",
    "    MG.add_edge(3, 5, key = 'lambda_'+str(i), weight=110)\n",
    "    MG.add_edge(3, 8, key = 'lambda_'+str(i), weight=150)\n",
    "    MG.add_edge(4, 6, key = 'lambda_'+str(i), weight=150)\n",
    "    MG.add_edge(4, 7, key = 'lambda_'+str(i), weight=130)\n",
    "    \n",
    "    MG.add_edge(5, 7, key = 'lambda_'+str(i), weight=120)\n",
    "    MG.add_edge(5, 8, key = 'lambda_'+str(i), weight=130)\n",
    "    MG.add_edge(6, 7, key = 'lambda_'+str(i), weight=120)\n",
    "    MG.add_edge(7, 8, key = 'lambda_'+str(i), weight=120)"
   ]
  },
  {
   "cell_type": "markdown",
   "metadata": {},
   "source": [
    "#gera as simulações"
   ]
  },
  {
   "cell_type": "code",
   "execution_count": 9,
   "metadata": {},
   "outputs": [
    {
     "name": "stdout",
     "output_type": "stream",
     "text": [
      "[1, 2, 3, 8]\n",
      "[1, 2, 3, 8]\n",
      "[1, 2, 3, 8]\n",
      "[1, 2, 3, 8]\n",
      "[1, 2, 3, 8]\n",
      "[1, 2, 3, 8]\n",
      "[1, 2, 3, 8]\n",
      "[1, 2, 3, 8]\n",
      "[1, 2, 3, 8]\n",
      "[1, 2, 3, 8]\n",
      "[1, 2, 3, 8]\n",
      "[1, 2, 3, 8]\n",
      "[1, 2, 3, 8]\n",
      "[1, 2, 3, 8]\n",
      "[1, 2, 3, 8]\n",
      "[1, 2, 3, 8]\n",
      "[1, 2, 3, 8]\n",
      "[1, 2, 3, 8]\n",
      "[1, 2, 3, 8]\n",
      "[1, 2, 3, 8]\n",
      "[1, 4, 7, 8]\n",
      "[1, 4, 7, 8]\n",
      "[1, 4, 7, 8]\n",
      "[1, 4, 7, 8]\n",
      "[1, 4, 7, 8]\n",
      "[1, 4, 7, 8]\n",
      "[1, 4, 7, 8]\n",
      "[1, 4, 7, 8]\n",
      "[1, 4, 7, 8]\n",
      "[1, 4, 7, 8]\n",
      "[1, 4, 7, 8]\n",
      "[1, 4, 7, 8]\n",
      "[1, 4, 7, 8]\n",
      "[1, 4, 7, 8]\n",
      "[1, 4, 7, 8]\n",
      "[1, 4, 7, 8]\n",
      "[1, 4, 7, 8]\n",
      "[1, 4, 7, 8]\n",
      "[1, 4, 7, 8]\n",
      "[1, 4, 7, 8]\n",
      "[1, 6, 7, 5, 8]\n",
      "[1, 6, 7, 5, 8]\n",
      "[1, 6, 7, 5, 8]\n",
      "[1, 6, 7, 5, 8]\n",
      "[1, 6, 7, 5, 8]\n",
      "[1, 6, 7, 5, 8]\n",
      "[1, 6, 7, 5, 8]\n",
      "[1, 6, 7, 5, 8]\n",
      "[1, 6, 7, 5, 8]\n",
      "[1, 6, 7, 5, 8]\n",
      "[1, 6, 7, 5, 8]\n",
      "[1, 6, 7, 5, 8]\n",
      "[1, 6, 7, 5, 8]\n",
      "[1, 6, 7, 5, 8]\n",
      "[1, 6, 7, 5, 8]\n",
      "[1, 6, 7, 5, 8]\n",
      "[1, 6, 7, 5, 8]\n",
      "[1, 6, 7, 5, 8]\n",
      "[1, 6, 7, 5, 8]\n",
      "[1, 6, 7, 5, 8]\n",
      "sem caminhos\n"
     ]
    }
   ],
   "source": [
    "origem=1\n",
    "destino=8\n",
    "acabou=False\n",
    "while not acabou:\n",
    "    if(acabou):\n",
    "        break\n",
    "    for i in range(l):\n",
    "        chave='lambda_'+str(i)\n",
    "        # calcula o menor caminho \n",
    "        #TODO salvar isso em csv enquanto for gerando o menor caminho\n",
    "\n",
    "\n",
    "        try:\n",
    "            lista_de_nos=nx.dijkstra_path(MG, origem, destino)\n",
    "            peso=nx.dijkstra_path_length(MG, origem, destino)\n",
    "            print(lista_de_nos)\n",
    "            #remove os lambdas usados do grafo\n",
    "            for i in range(len(lista_de_nos)):    \n",
    "                if(i+1 < len(lista_de_nos)):       \n",
    "                    #print(nx.dijkstra_path(MG,lista_de_nos[i],lista_de_nos[i+1]))\n",
    "                    MG.remove_edge(lista_de_nos[i],lista_de_nos[i+1], key=chave)\n",
    "\n",
    "        except :\n",
    "            print (\"sem caminhos\")\n",
    "            acabou=True\n",
    "            break\n",
    "\n",
    "\n",
    "    \n",
    "    \n",
    "    \n",
    "\n"
   ]
  },
  {
   "cell_type": "code",
   "execution_count": null,
   "metadata": {
    "collapsed": true
   },
   "outputs": [],
   "source": []
  },
  {
   "cell_type": "code",
   "execution_count": 4,
   "metadata": {},
   "outputs": [
    {
     "data": {
      "image/png": "[encoded data removed]",
      "text/plain": [
       "<matplotlib.figure.Figure at 0x7f4f2c85d7f0>"
      ]
     },
     "metadata": {},
     "output_type": "display_data"
    }
   ],
   "source": [
    "nx.draw_networkx(MG, {1: (0, 10), 2: (5, 10), 3: (10, 10), \n",
    "                      4: (2.5, 5), 5: (7.5, 5), 6: (0, 0), \n",
    "                      7: (5, 0), 8: (10, 0)})\n",
    "limits=plt.axis('off')"
   ]
  }
 ],
 "metadata": {
  "kernelspec": {
   "display_name": "Python 3",
   "language": "python",
   "name": "python3"
  },
  "language_info": {
   "codemirror_mode": {
    "name": "ipython",
    "version": 3
   },
   "file_extension": ".py",
   "mimetype": "text/x-python",
   "name": "python",
   "nbconvert_exporter": "python",
   "pygments_lexer": "ipython3",
   "version": "3.6.3"
  }
 },
 "nbformat": 4,
 "nbformat_minor": 2
}
